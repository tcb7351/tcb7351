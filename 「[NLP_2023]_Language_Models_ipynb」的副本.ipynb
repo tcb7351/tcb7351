{
  "nbformat": 4,
  "nbformat_minor": 0,
  "metadata": {
    "colab": {
      "provenance": [],
      "include_colab_link": true
    },
    "kernelspec": {
      "name": "python3",
      "display_name": "Python 3"
    },
    "language_info": {
      "name": "python"
    }
  },
  "cells": [
    {
      "cell_type": "markdown",
      "metadata": {
        "id": "view-in-github",
        "colab_type": "text"
      },
      "source": [
        "<a href=\"https://colab.research.google.com/github/tcb7351/tcb7351/blob/20231206_1/%E3%80%8C%5BNLP_2023%5D_Language_Models_ipynb%E3%80%8D%E7%9A%84%E5%89%AF%E6%9C%AC.ipynb\" target=\"_parent\"><img src=\"https://colab.research.google.com/assets/colab-badge.svg\" alt=\"Open In Colab\"/></a>"
      ]
    },
    {
      "cell_type": "markdown",
      "source": [
        "# N-Gram Language Models"
      ],
      "metadata": {
        "id": "x6ZHOucvOOza"
      }
    },
    {
      "cell_type": "markdown",
      "source": [
        "## Language Model for Generation"
      ],
      "metadata": {
        "id": "3opKy_8xCbAN"
      }
    },
    {
      "cell_type": "code",
      "execution_count": null,
      "metadata": {
        "colab": {
          "base_uri": "https://localhost:8080/"
        },
        "id": "rJqUqPPiOHUK",
        "outputId": "ab34a9bc-7282-419a-f7b3-dd39b9ed9d4b"
      },
      "outputs": [
        {
          "output_type": "stream",
          "name": "stderr",
          "text": [
            "[nltk_data] Downloading package brown to /root/nltk_data...\n",
            "[nltk_data]   Package brown is already up-to-date!\n"
          ]
        }
      ],
      "source": [
        "import nltk\n",
        "from nltk.corpus import brown\n",
        "nltk.download('brown')\n",
        "\n",
        "from collections import defaultdict\n",
        "import random\n",
        "\n",
        "def find_unigrams():\n",
        "    unigrams = []\n",
        "    for sent in brown.sents():\n",
        "        for w1 in sent:\n",
        "            unigrams.append(w1)\n",
        "    return unigrams\n",
        "\n",
        "def find_bigrams():\n",
        "    bigrams = defaultdict(list)\n",
        "    for sent in brown.sents():\n",
        "        for w1, w2 in zip(sent, sent[1:]):\n",
        "            bigrams[w1].append(w2)\n",
        "    return bigrams\n",
        "\n",
        "def find_trigrams():\n",
        "    trigrams = defaultdict(list)\n",
        "    for sent in brown.sents():\n",
        "        for w1, w2, w3 in zip(sent, sent[1:], sent[2:]):\n",
        "            trigrams[(w1, w2)].append(w3)\n",
        "    return trigrams\n",
        "\n",
        "unigrams = find_unigrams()\n",
        "bigrams = find_bigrams()\n",
        "trigrams = find_trigrams()"
      ]
    },
    {
      "cell_type": "code",
      "source": [
        "cnt = 10\n",
        "for w1, w2 in trigrams:\n",
        "    cnt -= 1\n",
        "    print(w1, w2, trigrams[(w1, w2)])\n",
        "    if cnt == 0:\n",
        "        break"
      ],
      "metadata": {
        "colab": {
          "base_uri": "https://localhost:8080/"
        },
        "id": "b0J5z9cWRe8c",
        "outputId": "670cd3f3-5b47-42a6-d303-954b345726a3"
      },
      "execution_count": null,
      "outputs": [
        {
          "output_type": "stream",
          "name": "stdout",
          "text": [
            "The Fulton ['County']\n",
            "Fulton County ['Grand', 'purchasing', 'general', ',', 'should', 'Jail']\n",
            "County Grand ['Jury']\n",
            "Grand Jury ['said', 'indictments']\n",
            "Jury said ['Friday']\n",
            "said Friday ['an', ',', 'that', '.']\n",
            "Friday an ['investigation']\n",
            "an investigation ['of', 'which', 'of', 'of', 'of', '.', 'with']\n",
            "investigation of [\"Atlanta's\", 'the', 'the', \"Lumumba's\", 'a', 'the', 'the', 'respiratory', 'the', 'the', 'the', 'the', 'the', 'the', 'the']\n",
            "of Atlanta's ['recent']\n"
          ]
        }
      ]
    },
    {
      "cell_type": "code",
      "source": [
        "def generate_using_unigrams(unigrams, length=0):\n",
        "    results = []\n",
        "    while len(results) < length or results[-1] != \".\":\n",
        "        results.append(random.choice(unigrams))\n",
        "    return \" \".join(results)\n",
        "\n",
        "print(generate_using_unigrams(unigrams, 100))\n"
      ],
      "metadata": {
        "colab": {
          "base_uri": "https://localhost:8080/"
        },
        "id": "WVxxjjUqBcvS",
        "outputId": "ceba9df4-7667-4b84-a814-33a98d84a9db"
      },
      "execution_count": null,
      "outputs": [
        {
          "output_type": "stream",
          "name": "stdout",
          "text": [
            "funds requires time trip true and request seems name brought parties he You insults peddlers few two the teammates for aqueous seeing he'll . watery for leaped extravagant sequences most stumbled dominant the contrary collecting total the all , the their where had A. of publicly unforeseen for facts '' 1956 the 3 to consider teachers , refused , , be on Avoid it his came to of and quantity files governing a compact is one- of born in close ship believe What that rising using , his the on in by it They It Old Snelling . of this each , Vienna into that glass is an as given live of deserted so-called hundred whisky alarmed the literature roll by Lopez odd last in , .\n"
          ]
        }
      ]
    },
    {
      "cell_type": "code",
      "source": [
        "def generate_using_bigrams(bigrams, prefix, length=0):\n",
        "    results = prefix.split(\" \")\n",
        "    while results[-1] != \".\" or len(results) < length:\n",
        "        if results[-1] not in bigrams:\n",
        "            break\n",
        "        results.append(random.choice(bigrams[results[-1]]))\n",
        "    return \" \".join(results)\n",
        "\n",
        "print(generate_using_bigrams(bigrams, \"Today is not\", 100))\n"
      ],
      "metadata": {
        "colab": {
          "base_uri": "https://localhost:8080/"
        },
        "id": "_7EBrphYB5gQ",
        "outputId": "d1bcaec9-bb85-482c-b8db-d58a941b2722"
      },
      "execution_count": null,
      "outputs": [
        {
          "output_type": "stream",
          "name": "stdout",
          "text": [
            "Today is not only 1 , prominent ads wear pink and often more than 400 B.C. it .\n"
          ]
        }
      ]
    },
    {
      "cell_type": "code",
      "source": [
        "def generate_using_trigrams(trigrams, prefix, length=0):\n",
        "    results = prefix.split(\" \")\n",
        "    while results[-1] != \".\" or len(results) < length:\n",
        "        if tuple(results[-2:]) not in trigrams:\n",
        "            break\n",
        "        results.append(random.choice(trigrams[tuple(results[-2:])]))\n",
        "    return \" \".join(results)\n",
        "\n",
        "print(generate_using_trigrams(trigrams, \"Today is not\", 100))\n"
      ],
      "metadata": {
        "colab": {
          "base_uri": "https://localhost:8080/"
        },
        "id": "lX7WMJTSOvXE",
        "outputId": "6320fd5e-edd8-44d7-b730-e833038fff79"
      },
      "execution_count": null,
      "outputs": [
        {
          "output_type": "stream",
          "name": "stdout",
          "text": [
            "Today is not nearly as easy for the short whiskers , shaven polls , and to obtain a licensed drugless healer -- in fact turning the earth will be able to read Parisina , which includes the solemn assurance that Bridget returned to London , he wrote : `` in case you hit trouble .\n"
          ]
        }
      ]
    },
    {
      "cell_type": "markdown",
      "source": [
        "## Language Model for Classification"
      ],
      "metadata": {
        "id": "kdC0RjJfCVib"
      }
    },
    {
      "cell_type": "code",
      "source": [
        "import nltk\n",
        "from nltk.corpus import movie_reviews\n",
        "\n",
        "nltk.download(\"movie_reviews\")"
      ],
      "metadata": {
        "colab": {
          "base_uri": "https://localhost:8080/"
        },
        "id": "uK8D8UDUCZlc",
        "outputId": "30f6d32d-4c45-4263-c6b1-cd7a01b506cc"
      },
      "execution_count": null,
      "outputs": [
        {
          "output_type": "stream",
          "name": "stderr",
          "text": [
            "[nltk_data] Downloading package movie_reviews to /root/nltk_data...\n",
            "[nltk_data]   Unzipping corpora/movie_reviews.zip.\n"
          ]
        },
        {
          "output_type": "execute_result",
          "data": {
            "text/plain": [
              "True"
            ]
          },
          "metadata": {},
          "execution_count": 7
        }
      ]
    },
    {
      "cell_type": "code",
      "source": [
        "training_data = defaultdict(list)\n",
        "test_data = defaultdict(list)\n",
        "\n",
        "random.seed(0)\n",
        "for polarity in movie_reviews.categories():\n",
        "    for fid in movie_reviews.fileids(polarity):\n",
        "        if random.randrange(5) == 0:\n",
        "            test_data[polarity].append([w for w in movie_reviews.words(fid)])\n",
        "        else:\n",
        "            training_data[polarity].append([w for w in movie_reviews.words(fid)])"
      ],
      "metadata": {
        "colab": {
          "base_uri": "https://localhost:8080/"
        },
        "id": "dyfLD0SRChBr",
        "outputId": "7ea1fa4d-d22e-493d-b665-44bd35dffdd1"
      },
      "execution_count": null,
      "outputs": [
        {
          "output_type": "stream",
          "name": "stdout",
          "text": [
            "neg\n",
            "pos\n"
          ]
        }
      ]
    },
    {
      "cell_type": "code",
      "source": [
        "from collections import Counter\n",
        "import math\n",
        "\n",
        "def build_lm(sents):\n",
        "    trigrams = Counter()\n",
        "    bigrams = Counter()\n",
        "    unigrams = Counter()\n",
        "    for sent in sents:\n",
        "        for w1, w2, w3 in zip(sent, sent[1:], sent[2:]):\n",
        "            trigrams[(w1, w2, w3)] += 1\n",
        "            bigrams[(w1, w2)] += 1\n",
        "            unigrams[w1] += 1\n",
        "    return unigrams, bigrams, trigrams\n",
        "\n",
        "def lm_log_pr(sent, unigrams, bigrams, trigrams):\n",
        "    log_pr = 0\n",
        "    for w1, w2, w3 in zip(sent, sent[1:], sent[2:]):\n",
        "        log_pr += math.log((trigrams[(w1, w2, w3)] + 0.5) / (bigrams[(w1, w2)] + (0.5 * (len(unigrams)**2) )))\n",
        "    return log_pr\n"
      ],
      "metadata": {
        "id": "fobAkWURDr6L"
      },
      "execution_count": null,
      "outputs": []
    },
    {
      "cell_type": "code",
      "source": [
        "pos_unigrams, pos_bigrams, pos_trigrams = build_lm(training_data[\"pos\"])\n",
        "neg_unigrams, neg_bigrams, neg_trigrams = build_lm(training_data[\"neg\"])"
      ],
      "metadata": {
        "id": "6BaZ3vYnDQqd"
      },
      "execution_count": null,
      "outputs": []
    },
    {
      "cell_type": "code",
      "source": [
        "correct, total = 0, 0\n",
        "\n",
        "for polarity in ['neg', 'pos']:\n",
        "    for sent in test_data[polarity]:\n",
        "        if lm_log_pr(sent, neg_unigrams, neg_bigrams, neg_trigrams) > lm_log_pr(sent, pos_unigrams, pos_bigrams, pos_trigrams):\n",
        "            prediction = 'neg'\n",
        "        else:\n",
        "            prediction = 'pos'\n",
        "        if prediction == polarity:\n",
        "            correct += 1\n",
        "        total += 1\n",
        "\n",
        "print(\"Acc: %d / %d = %g\" % (correct, total, correct / total))"
      ],
      "metadata": {
        "colab": {
          "base_uri": "https://localhost:8080/"
        },
        "id": "U1lkFRJ0FKbc",
        "outputId": "85e00bcf-0ebb-4894-fdd8-f39106486014"
      },
      "execution_count": null,
      "outputs": [
        {
          "output_type": "stream",
          "name": "stdout",
          "text": [
            "Acc: 235 / 422 = 0.556872\n"
          ]
        }
      ]
    },
    {
      "cell_type": "code",
      "source": [],
      "metadata": {
        "id": "GxwLgA3PF835"
      },
      "execution_count": null,
      "outputs": []
    }
  ]
}